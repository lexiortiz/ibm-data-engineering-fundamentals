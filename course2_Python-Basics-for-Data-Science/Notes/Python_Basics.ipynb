{
  "nbformat": 4,
  "nbformat_minor": 0,
  "metadata": {
    "colab": {
      "provenance": [],
      "toc_visible": true,
      "authorship_tag": "ABX9TyM9Py32B+/KpIlsIQrzY0Dd"
    },
    "kernelspec": {
      "name": "python3",
      "display_name": "Python 3"
    },
    "language_info": {
      "name": "python"
    }
  },
  "cells": [
    {
      "cell_type": "markdown",
      "source": [
        "# Python Basics"
      ],
      "metadata": {
        "id": "0YZWcHHp4HbW"
      }
    },
    {
      "cell_type": "markdown",
      "source": [
        "## Data Types in Python"
      ],
      "metadata": {
        "id": "ketXMjTN4LDp"
      }
    },
    {
      "cell_type": "markdown",
      "source": [
        "**Introduction**\n",
        "- A **type** defines how Python represents different kinds of data.\n",
        "- Common data types in Python include:\n",
        "  - **Integers** (`int`) - Whole numbers (e.g., `11`, `-5`).\n",
        "  - **Floats** (`float`) - Real numbers, including decimals (e.g., `21.213`, `0.5`).\n",
        "  - **Strings** (`str`) - A sequence of characters (e.g., `\"Hello\"`).\n",
        "  - **Booleans** (`bool`) - Logical values (`True`, `False`).\n",
        "\n",
        "#### Integer (`int`)\n",
        "- Integers can be **positive or negative**.\n",
        "- While there is a limit, Python supports a **large range** of integers.\n",
        "\n",
        "#### Float (`float`)\n",
        "- Floats represent **real numbers**, including decimals.\n",
        "- They include **values between integers** (e.g., `0.5`, `0.6`).\n",
        "- The range of floating-point numbers is limited but **very precise**.\n",
        "\n",
        "#### String (`str`)\n",
        "- A sequence of characters enclosed in quotes (`' '` or `\" \"`).\n",
        "- Example:\n",
        "  ```python\n",
        "  my_string = \"Hello, Python!\"\n",
        "  ```"
      ],
      "metadata": {
        "id": "IGjz6cgiDl6n"
      }
    },
    {
      "cell_type": "markdown",
      "source": [
        "\n",
        "### Checking Data Types\n",
        "- Use the `type()` function to check the data type of a value.\n",
        "  ```python\n",
        "  print(type(11))       # Output: <class 'int'>\n",
        "  print(type(21.213))   # Output: <class 'float'>\n",
        "  print(type(\"Hello\"))  # Output: <class 'str'>\n",
        "  ```"
      ],
      "metadata": {
        "id": "I1RSFjyiD9d1"
      }
    },
    {
      "cell_type": "markdown",
      "source": [
        "### Typecasting (Changing Data Types)\n",
        "- Convert one data type to another using **typecasting**.\n",
        "- Example conversions:\n",
        "  ```python\n",
        "  float(2)   # Converts int to float → 2.0\n",
        "  int(2.9)   # Converts float to int (loses decimal) → 2\n",
        "  str(100)   # Converts int to string → \"100\"\n",
        "  int(\"5\")   # Converts string containing a number to int → 5\n",
        "  int(\"hello\")  # Error! Cannot convert non-numeric string to int\n",
        "  ```"
      ],
      "metadata": {
        "id": "4_5f4HRZEJ-i"
      }
    },
    {
      "cell_type": "markdown",
      "source": [
        "### Boolean (`bool`)\n",
        "- A **Boolean** has only two values: `True` or `False` (capitalized).\n",
        "- Example:\n",
        "  ```python\n",
        "  print(type(True))   # Output: <class 'bool'>\n",
        "  print(type(False))  # Output: <class 'bool'>\n",
        "  ```\n",
        "- **Boolean conversions**:\n",
        "  ```python\n",
        "  int(True)   # Converts True to 1\n",
        "  int(False)  # Converts False to 0\n",
        "  bool(1)     # Converts 1 to True\n",
        "  bool(0)     # Converts 0 to False\n",
        "  ```"
      ],
      "metadata": {
        "id": "g6Vzefr_Elrw"
      }
    },
    {
      "cell_type": "markdown",
      "source": [
        "### Additional Resources\n",
        "- More examples are available in the labs.\n",
        "- Check [Python.org](https://www.python.org/) for additional data types."
      ],
      "metadata": {
        "id": "MDIvyaLZEqGS"
      }
    },
    {
      "cell_type": "markdown",
      "source": [
        "## Expressions and Variables"
      ],
      "metadata": {
        "id": "xd4BOAZPCrOb"
      }
    },
    {
      "cell_type": "markdown",
      "source": [
        "### Expressions\n",
        "- Expressions describe operations that computers perform.\n",
        "- Python expressions include basic arithmetic operations like addition (`+`), subtraction (`-`), multiplication (`*`), and division (`/`).\n",
        "- **Operands** are numbers, and **operators** are mathematical symbols.\n",
        "- Examples:\n",
        "  ```python\n",
        "  25 + 135  # Output: 160\n",
        "  25 - 50   # Output: -25\n",
        "  5 * 5     # Output: 25\n",
        "  25 / 5    # Output: 5.0\n",
        "  25 / 6    # Output: 4.167  # (float in Python 3)\n",
        "  25 // 6   # Output: 4  # (integer division)\n",
        "  ```\n",
        "- Python follows **mathematical order of operations (PEMDAS)**.\n",
        "- Parentheses `( )` determine precedence.\n",
        "  ```python\n",
        "  (32 + 64) * 60  # Output: 1,920\n",
        "  ```\n",
        "- More complex operations will be covered in the course."
      ],
      "metadata": {
        "id": "ryZbcdP7Dq6G"
      }
    },
    {
      "cell_type": "markdown",
      "source": [
        "### Variables\n",
        "- **Variables store values** using the assignment operator (`=`).\n",
        "  ```python\n",
        "  my_variable = 1\n",
        "  ```\n",
        "- Variables can be reassigned:\n",
        "  ```python\n",
        "  my_variable = 10  # Previous value is overwritten\n",
        "  ```\n",
        "- **Expressions can be stored in variables**:\n",
        "  ```python\n",
        "  x = 8 + 5 + 2  # x = 15\n",
        "  y = x / 6      # y = 2.666\n",
        "  ```\n",
        "- **Variables can be updated** using themselves:\n",
        "  ```python\n",
        "  x = x / 6  # x = 2.666\n",
        "  ```\n",
        "- The `type()` function determines variable type:\n",
        "  ```python\n",
        "  print(type(x))  # Output: <class 'float'>\n",
        "  ```\n",
        "- **Best practices for variable names**:\n",
        "  - Use meaningful names (`total_min`, `total_hour`).\n",
        "  - Use underscores (`total_min`) or capital letters (`TotalMin`).\n",
        "\n",
        "### Example: Converting Minutes to Hours\n",
        "```python\n",
        "total_min = 142\n",
        "total_hour = total_min / 60\n",
        "print(total_hour)  # Output: 2.367\n",
        "```\n",
        "- Changing `total_min` updates `total_hour` automatically."
      ],
      "metadata": {
        "id": "hPpIKhmUFBEO"
      }
    },
    {
      "cell_type": "markdown",
      "source": [
        "## String Operations"
      ],
      "metadata": {
        "id": "JeH7LB1PDYoT"
      }
    },
    {
      "cell_type": "markdown",
      "source": [
        "- In Python, a **string** is a sequence of characters.\n",
        "- A string is enclosed within **double quotes** (`\" \"`) or **single quotes** (`' '`).\n",
        "- Strings can include **spaces, digits, and special characters**.\n",
        "- Strings can be **assigned to variables**.\n",
        "  ```python\n",
        "  my_string = \"Hello, World!\"\n",
        "  ```\n",
        "\n",
        "### String Indexing\n",
        "- A string is an **ordered sequence**, and each element can be accessed using an **index**.\n",
        "- Indexing starts at `0` for the first character.\n",
        "  ```python\n",
        "  my_string = \"Michael Jackson\"\n",
        "  print(my_string[0])   # Output: 'M'\n",
        "  print(my_string[6])   # Output: 'l'\n",
        "  print(my_string[13])  # Output: 'o'\n",
        "  ```\n",
        "- **Negative indexing** starts from `-1` for the last character.\n",
        "  ```python\n",
        "  print(my_string[-1])   # Output: 'n'\n",
        "  print(my_string[-15])  # Output: 'M'\n",
        "  ```\n",
        "\n",
        "### String as a Sequence\n",
        "- A string behaves like a **list or tuple** and supports sequence operations.\n",
        "- **Stride value** can be used to select specific characters.\n",
        "  ```python\n",
        "  print(my_string[::2])  # Selects every second character\n",
        "  ```\n",
        "- **Slicing** extracts parts of a string.\n",
        "  ```python\n",
        "  print(my_string[:4])   # Output: 'Mich' (characters up to index 4)\n",
        "  ```\n",
        "\n",
        "### String Length\n",
        "- Use the `len()` function to find the length of a string.\n",
        "  ```python\n",
        "  print(len(my_string))  # Output: 15\n",
        "  ```\n",
        "\n",
        "### String Concatenation\n",
        "- Strings can be **combined using the `+` operator**.\n",
        "  ```python\n",
        "  str1 = \"Hello\"\n",
        "  str2 = \" World\"\n",
        "  result = str1 + str2\n",
        "  print(result)  # Output: 'Hello World'\n",
        "  ```\n",
        "\n",
        "### String Replication\n",
        "- Strings can be **repeated using the `*` operator**.\n",
        "  ```python\n",
        "  repeated_string = \"Hello \" * 3\n",
        "  print(repeated_string)  # Output: 'Hello Hello Hello '\n",
        "  ```\n",
        "- **Strings are immutable**, meaning they **cannot be changed** but can be reassigned.\n",
        "  ```python\n",
        "  my_string = my_string + \" is the best\"\n",
        "  print(my_string)  # Output: 'Michael Jackson is the best'\n",
        "  ```\n",
        "\n",
        "### Escape Sequences\n",
        "- Escape sequences help format strings.\n",
        "  ```python\n",
        "  print(\"Hello\\nWorld\")  # '\\n' creates a new line\n",
        "  print(\"Hello\\tWorld\")  # '\\t' adds a tab space\n",
        "  print(\"This is a backslash: \\\\\")  # '\\\\' prints a backslash\n",
        "  ```\n",
        "- **Raw strings** prevent escape sequences from being interpreted.\n",
        "  ```python\n",
        "  print(r\"Hello\\nWorld\")  # Output: 'Hello\\nWorld'\n",
        "  ```\n",
        "\n",
        "### String Methods\n",
        "- **`upper()`** converts lowercase letters to uppercase.\n",
        "  ```python\n",
        "  a = \"hello\"\n",
        "  b = a.upper()\n",
        "  print(b)  # Output: 'HELLO'\n",
        "  ```\n",
        "- **`replace()`** replaces part of a string.\n",
        "  ```python\n",
        "  new_string = \"Michael Jackson\".replace(\"Michael\", \"Prince\")\n",
        "  print(new_string)  # Output: 'Prince Jackson'\n",
        "  ```\n",
        "- **`find()`** locates a substring. Helps you locate the position of the first character in a given string that matches the first character of a specified substring.\n",
        "\n",
        "  ```python\n",
        "  index = \"Michael Jackson\".find(\"Jack\")\n",
        "  print(index)  # Output: 8\n",
        "  ```\n",
        "  - If the substring is not found, it returns `-1`.\n"
      ],
      "metadata": {
        "id": "2C36b96jJqX_"
      }
    }
  ]
}