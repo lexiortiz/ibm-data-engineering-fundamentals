{
  "nbformat": 4,
  "nbformat_minor": 0,
  "metadata": {
    "colab": {
      "provenance": [],
      "authorship_tag": "ABX9TyMXLT7NRBkJ+LETeQz+/Ujh"
    },
    "kernelspec": {
      "name": "python3",
      "display_name": "Python 3"
    },
    "language_info": {
      "name": "python"
    }
  },
  "cells": [
    {
      "cell_type": "markdown",
      "source": [
        "## Lists and Tuples"
      ],
      "metadata": {
        "id": "DfrBCEscR78k"
      }
    },
    {
      "cell_type": "markdown",
      "source": [
        "### Tuples\n",
        "- Tuples are ordered sequences, represented with parentheses `()`, and can contain multiple data types.\n",
        "- Elements in a tuple are accessed using indexing, including negative indexing.\n",
        "- Tuples can be concatenated or sliced.\n",
        "- They are **immutable**, meaning their values cannot be changed after creation.\n",
        "- To manipulate a tuple, a new tuple must be created.\n",
        "- The `sorted()` function returns a sorted list from a tuple.\n",
        "- Tuples can be **nested**, containing other tuples or complex data structures.\n",
        "- Nested tuples can be accessed using multiple indices.\n",
        "\n",
        "### Lists\n",
        "- Lists are also ordered sequences, but they are **mutable**.\n",
        "- Lists are represented using square brackets `[]` and can contain various data types.\n",
        "- Like tuples, lists support indexing, negative indexing, slicing, and concatenation.\n",
        "- **Key difference**: Unlike tuples, lists can be modified after creation.\n",
        "- Methods like `extend()` and `append()` modify lists by adding elements.\n",
        "- The `del` command removes elements from a list.\n",
        "- The `split()` method converts a string into a list based on a delimiter.\n",
        "- **Aliasing** occurs when two variables reference the same list, meaning changes in one affect the other.\n",
        "- **Cloning** a list creates an independent copy using slicing `[:]`.\n",
        "\n",
        "### Additional Info\n",
        "- Use the `help()` function for more details on lists, tuples, and other Python objects.\n",
        "- Check the labs for practical examples and additional operations on lists and tuples.\n"
      ],
      "metadata": {
        "id": "MBIhcgy5Wv13"
      }
    },
    {
      "cell_type": "markdown",
      "source": [
        "## Dictionaries"
      ],
      "metadata": {
        "id": "uIUXcvyDYHQH"
      }
    },
    {
      "cell_type": "markdown",
      "source": [
        "Dictionaries are a type of collection in Python.\n",
        "\n",
        "If you recall, a list has integer indexes, which act like addresses for elements. A dictionary, however, has **keys and values**. The key is similar to an index, but it does not have to be an integer—it is usually a string. The values store information, similar to list elements.\n",
        "\n",
        "### Creating a Dictionary\n",
        "\n",
        "To create a dictionary, we use **curly brackets `{}`**. The **keys** must be **immutable** and **unique**, while the **values** can be mutable, immutable, and even duplicated.\n",
        "\n",
        "Each **key** is followed by a **value**, separated by a colon `:`. Key-value pairs are separated by commas.\n",
        "\n",
        "Example:\n",
        "\n",
        "```python\n",
        "album_dict = {\n",
        "    \"Thriller\": 1982,\n",
        "    \"Back in Black\": 1980,\n",
        "    \"The Dark Side Of The Moon\": 1973\n",
        "}\n",
        "```\n",
        "This can be visualized in a table:\n",
        "\n",
        "| Key                      | Value |\n",
        "|--------------------------|-------|\n",
        "| Thriller                 | 1982  |\n",
        "| Back in Black           | 1980  |\n",
        "| The Dark Side Of The Moon | 1973  |\n",
        "\n",
        "### Accessing Values\n",
        "\n",
        "To retrieve a value, use square brackets `[]` with the key:\n",
        "\n",
        "```python\n",
        "print(album_dict[\"Back in Black\"])  \n",
        "# Output: 1980\n",
        "```"
      ],
      "metadata": {
        "id": "6M7wcBLDanZw"
      }
    },
    {
      "cell_type": "markdown",
      "source": [
        "### Adding an Entry\n",
        "To add a new entry:\n",
        "\n",
        "```python\n",
        "album_dict[\"Graduation\"] = 2007\n",
        "```\n",
        "\n",
        "Now, the dictionary includes:\n",
        "\n",
        "```python\n",
        "{\n",
        "    \"Thriller\": 1982,\n",
        "    \"Back in Black\": 1980,\n",
        "    \"The Dark Side Of The Moon\": 1973,\n",
        "    \"Graduation\": 2007\n",
        "}\n",
        "```\n"
      ],
      "metadata": {
        "id": "pS-5SJSka-8c"
      }
    },
    {
      "cell_type": "markdown",
      "source": [
        "### Deleting an Entry\n",
        "\n",
        "To remove a key-value pair:\n",
        "\n",
        "```python\n",
        "del album_dict[\"Thriller\"]\n",
        "```\n",
        "\n",
        "Now, \"Thriller\" is no longer in the dictionary."
      ],
      "metadata": {
        "id": "1CeXKx58bjyC"
      }
    },
    {
      "cell_type": "markdown",
      "source": [
        "### Checking for Keys\n",
        "To check if a key exists in the dictionary:\n",
        "\n",
        "```python\n",
        "print(\"Back in Black\" in album_dict)  \n",
        "# Output: True\n",
        "\n",
        "print(\"Thriller\" in album_dict)       \n",
        "# Output: False\n",
        "```\n"
      ],
      "metadata": {
        "id": "ltUm6e92apv9"
      }
    },
    {
      "cell_type": "markdown",
      "source": [
        "### Retrieving All Keys and Values\n",
        "To get a list-like object of all keys:\n",
        "\n",
        "\n",
        "```python\n",
        "print(album_dict.keys())  \n",
        "\n",
        "# Output: dict_keys(['Back in Black', 'The Dark Side Of The Moon', 'Graduation'])\n",
        "```\n",
        "\n",
        "\n"
      ],
      "metadata": {
        "id": "PE804l5ednkq"
      }
    },
    {
      "cell_type": "markdown",
      "source": [
        "To get all values:\n",
        "\n",
        "```python\n",
        "print(album_dict.values())  \n",
        "\n",
        "# Output: dict_values([1980, 1973, 2007])\n",
        "```\n",
        "\n"
      ],
      "metadata": {
        "id": "u7pZDoNPdpfi"
      }
    },
    {
      "cell_type": "markdown",
      "source": [
        "## Sets"
      ],
      "metadata": {
        "id": "hx739utrerrs"
      }
    },
    {
      "cell_type": "markdown",
      "source": [
        "Sets are a type of collection. Unlike lists and tuples, sets are unordered, meaning they do not record the element position. Additionally, sets only have unique elements, meaning there is only one occurrence of a particular element in a set.\n"
      ],
      "metadata": {
        "id": "v-Ci5V5Me89i"
      }
    },
    {
      "cell_type": "markdown",
      "source": [
        "### Defining a Set\n",
        "To define a set, use curly brackets `{}`. You place the elements within the brackets, and if there are duplicate items, they will not be included when the set is created."
      ],
      "metadata": {
        "id": "BDPhhTTQjLnM"
      }
    },
    {
      "cell_type": "markdown",
      "source": [
        "### Type Casting\n",
        "You can convert a list to a set using the `set()` function. This removes any duplicates and returns a set."
      ],
      "metadata": {
        "id": "4RphRGxtjOaq"
      }
    },
    {
      "cell_type": "markdown",
      "source": [
        "### Set Operations\n",
        "- **Adding an Item:** You can add an item to a set using the `add()` method. If you try to add a duplicate item, nothing will happen.\n",
        "- **Removing an Item:** You can remove an item from a set using the `remove()` method. The item will be removed if it exists in the set.\n",
        "- **Checking for an Item:** You can check if an item is in a set using the `in` command. It will return `True` if the item is in the set, and `False` if it is not."
      ],
      "metadata": {
        "id": "18yGYHDGjQa9"
      }
    },
    {
      "cell_type": "markdown",
      "source": [
        "### Mathematical Set Operations\n",
        "- **Intersection:** The intersection of two sets contains elements that are in both sets. In Python, you can find the intersection using the `&` operator.\n",
        "- **Union:** The union of two sets contains all elements from both sets. In Python, you can find the union using the `|` operator.\n",
        "- **Subset:** You can check if one set is a subset of another using the `issubset()` method."
      ],
      "metadata": {
        "id": "Uci4Nh83jSyj"
      }
    },
    {
      "cell_type": "markdown",
      "source": [
        "### Example\n",
        "Consider two sets: `album_set_one` and `album_set_two`. You can perform various set operations:\n",
        "- The **intersection** will give elements common to both sets.\n",
        "- The **union** will combine all elements from both sets.\n",
        "- You can check if one set is a **subset** of another using the `issubset()` method."
      ],
      "metadata": {
        "id": "2QicR4kijUyv"
      }
    }
  ]
}